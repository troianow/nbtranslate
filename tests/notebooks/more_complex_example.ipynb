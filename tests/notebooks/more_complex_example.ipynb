{
 "cells": [
  {
   "cell_type": "markdown",
   "metadata": {},
   "source": [
    "# Header 1\n"
   ]
  },
  {
   "cell_type": "markdown",
   "metadata": {},
   "source": [
    "Let's start with some markdown cells, possibly with things that may not be expected in such a cell like:\n",
    "\"\"\" here is a string \"\"\""
   ]
  },
  {
   "cell_type": "markdown",
   "metadata": {},
   "source": [
    "Here's code inside a markdown cell\n",
    "```python \n",
    "def random_number():\n",
    "    \"\"\"\n",
    "    Returns a random number, chosen by a fair dice role\n",
    "    \"\"\"\n",
    "    return 4\n",
    "```\n",
    "```python\n",
    "def another_function():\n",
    "    '''Here's a docstring with single quotes'''\n",
    "    return 4\n",
    "```\n"
   ]
  },
  {
   "cell_type": "code",
   "execution_count": 5,
   "metadata": {
    "ExecuteTime": {
     "end_time": "2021-03-04T02:16:30.811257Z",
     "start_time": "2021-03-04T02:16:30.807865Z"
    }
   },
   "outputs": [
    {
     "name": "stdout",
     "output_type": "stream",
     "text": [
      "This is valid python code even though the indentation is odd. \n"
     ]
    }
   ],
   "source": [
    "# this is valid code\n",
    "    print('This is valid python code even though the indentation is odd. ')\n"
   ]
  },
  {
   "cell_type": "markdown",
   "metadata": {},
   "source": [
    "Another markdown cell with latex code:\n",
    "$$ \\int_{-\\infty}^{+\\infty} \\int_{-\\infty}^{+\\infty}f(x,y) \\,dx\\,dy $$"
   ]
  },
  {
   "cell_type": "code",
   "execution_count": null,
   "metadata": {},
   "outputs": [],
   "source": []
  },
  {
   "cell_type": "code",
   "execution_count": null,
   "metadata": {},
   "outputs": [],
   "source": []
  }
 ],
 "metadata": {
  "kernelspec": {
   "display_name": "Python 3",
   "language": "python",
   "name": "python3"
  },
  "language_info": {
   "codemirror_mode": {
    "name": "ipython",
    "version": 3
   },
   "file_extension": ".py",
   "mimetype": "text/x-python",
   "name": "python",
   "nbconvert_exporter": "python",
   "pygments_lexer": "ipython3",
   "version": "3.6.5"
  },
  "toc": {
   "nav_menu": {},
   "number_sections": false,
   "sideBar": false,
   "skip_h1_title": false,
   "toc_cell": false,
   "toc_position": {},
   "toc_section_display": false,
   "toc_window_display": false
  }
 },
 "nbformat": 4,
 "nbformat_minor": 2
}
