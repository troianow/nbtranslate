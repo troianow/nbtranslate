{
 "cells": [
  {
   "cell_type": "markdown",
   "metadata": {
    "section": "__no_section__"
   },
   "source": [
    "# Import section"
   ]
  },
  {
   "cell_type": "code",
   "execution_count": 7,
   "metadata": {
    "ExecuteTime": {
     "end_time": "2019-10-05T16:53:20.222048Z",
     "start_time": "2019-10-05T16:53:20.219832Z"
    },
    "section": "__no_section__"
   },
   "outputs": [],
   "source": [
    "import re\n",
    "import sys\n",
    "import os"
   ]
  },
  {
   "cell_type": "code",
   "execution_count": 8,
   "metadata": {
    "ExecuteTime": {
     "end_time": "2019-10-05T16:53:20.338458Z",
     "start_time": "2019-10-05T16:53:20.336288Z"
    },
    "section": "__no_section__"
   },
   "outputs": [],
   "source": [
    "from os import path\n",
    "from concurrent import futures"
   ]
  },
  {
   "cell_type": "markdown",
   "metadata": {
    "section": "__no_section__"
   },
   "source": [
    "# Section 1\n",
    "\n",
    "## Iterator exhaustion"
   ]
  },
  {
   "cell_type": "code",
   "execution_count": 9,
   "metadata": {
    "ExecuteTime": {
     "end_time": "2019-10-05T16:53:20.576768Z",
     "start_time": "2019-10-05T16:53:20.573804Z"
    },
    "section": "__no_section__"
   },
   "outputs": [
    {
     "name": "stdout",
     "output_type": "stream",
     "text": [
      "[4, 5, 6, 7, 8, 9]\n"
     ]
    }
   ],
   "source": [
    "# iterator exhaustion example\n",
    "\n",
    "x = (a for a in range(10))\n",
    "if 3 in x:\n",
    "    print(list(x))\n",
    "\n",
    "# expected answer: [4, 5, 6, 7, 8, 9]"
   ]
  },
  {
   "cell_type": "markdown",
   "metadata": {
    "section": "__no_section__"
   },
   "source": [
    "## Late binding example"
   ]
  },
  {
   "cell_type": "code",
   "execution_count": 10,
   "metadata": {
    "ExecuteTime": {
     "end_time": "2019-10-05T16:53:20.801302Z",
     "start_time": "2019-10-05T16:53:20.797089Z"
    },
    "section": "__no_section__"
   },
   "outputs": [
    {
     "data": {
      "text/plain": [
       "[19, 19, 19, 19, 19, 19, 19, 19, 19, 19]"
      ]
     },
     "execution_count": 10,
     "metadata": {},
     "output_type": "execute_result"
    }
   ],
   "source": [
    "# late binding on lambdas\n",
    "list_of_functions = [lambda x: x + n for n in range(10)]\n",
    "\n",
    "[f(10) for f in list_of_functions]\n",
    "# [19, 19, 19, 19, 19, 19, 19, 19, 19, 19]"
   ]
  }
 ],
 "metadata": {
  "kernelspec": {
   "display_name": "Python 3",
   "language": "python",
   "name": "python3"
  },
  "language_info": {
   "codemirror_mode": {
    "name": "ipython",
    "version": 3
   },
   "file_extension": ".py",
   "mimetype": "text/x-python",
   "name": "python",
   "nbconvert_exporter": "python",
   "pygments_lexer": "ipython3",
   "version": "3.6.5"
  },
  "toc": {
   "nav_menu": {},
   "number_sections": false,
   "sideBar": false,
   "skip_h1_title": false,
   "toc_cell": false,
   "toc_position": {},
   "toc_section_display": false,
   "toc_window_display": false
  }
 },
 "nbformat": 4,
 "nbformat_minor": 2
}
